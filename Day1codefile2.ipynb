{
  "nbformat": 4,
  "nbformat_minor": 0,
  "metadata": {
    "colab": {
      "name": "Day1codefile2.ipynb",
      "provenance": [],
      "collapsed_sections": []
    },
    "kernelspec": {
      "name": "python3",
      "display_name": "Python 3"
    },
    "language_info": {
      "name": "python"
    }
  },
  "cells": [
    {
      "cell_type": "markdown",
      "metadata": {
        "id": "view-in-github"
      },
      "source": [
        "<a href=\"https://colab.research.google.com/github/rakshu497/INTERNSOFT-code-files/blob/main/Day1codefile2.ipynb\" target=\"_parent\"><img src=\"https://colab.research.google.com/assets/colab-badge.svg\" alt=\"Open In Colab\"/></a>"
      ]
    },
    {
      "cell_type": "code",
      "metadata": {
        "colab": {
          "base_uri": "https://localhost:8080/"
        },
        "id": "cSTuOcxN70Ng",
        "outputId": "ca1d7b5a-968b-45b8-ac50-63fb23c9adc5"
      },
      "source": [
        "import sklearn\n",
        "print(sklearn.__version__)\n",
        "import numpy\n",
        "print(numpy.__version__)\n",
        "import scipy\n",
        "print(scipy.__version__)\n",
        "import matplotlib\n",
        "print(matplotlib.__version__)\n",
        "import pandas\n",
        "print(pandas.__version__)\n",
        "import torch\n",
        "print(torch.__version__)\n",
        "import seaborn\n",
        "print(seaborn.__version__)\n",
        "import wordcloud\n",
        "print(wordcloud.__version__)\n",
        "import bs4\n",
        "print(bs4.__version__)\n",
        "import requests\n",
        "print(requests.__version__)\n",
        "import theano\n",
        "print(theano.__version__)\n",
        "import networkx\n",
        "print(networkx.__version__)\n",
        "import cv2\n",
        "print(cv2.__version__)\n",
        "import gym\n",
        "print(gym.__version__)\n",
        "\n",
        "\n"
      ],
      "execution_count": 1,
      "outputs": [
        {
          "output_type": "stream",
          "name": "stdout",
          "text": [
            "0.22.2.post1\n",
            "1.19.5\n",
            "1.4.1\n",
            "3.2.2\n",
            "1.1.5\n",
            "1.9.0+cu102\n",
            "0.11.1\n",
            "1.5.0\n",
            "4.6.3\n",
            "2.23.0\n",
            "1.1.2\n",
            "2.6.2\n",
            "4.1.2\n",
            "0.17.3\n"
          ]
        }
      ]
    }
  ]
}