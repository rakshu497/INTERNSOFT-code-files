{
  "nbformat": 4,
  "nbformat_minor": 0,
  "metadata": {
    "colab": {
      "name": "Day1codefile2.ipynb",
      "provenance": [],
      "collapsed_sections": [],
      "authorship_tag": "ABX9TyNVyWS/vLAiRSWEGsA8g0+n",
      "include_colab_link": true
    },
    "kernelspec": {
      "name": "python3",
      "display_name": "Python 3"
    },
    "language_info": {
      "name": "python"
    }
  },
  "cells": [
    {
      "cell_type": "markdown",
      "metadata": {
        "id": "view-in-github",
        "colab_type": "text"
      },
      "source": [
        "<a href=\"https://colab.research.google.com/github/rakshu497/INTERNSOFT-code-files/blob/main/Day1codefile2.ipynb\" target=\"_parent\"><img src=\"https://colab.research.google.com/assets/colab-badge.svg\" alt=\"Open In Colab\"/></a>"
      ]
    },
    {
      "cell_type": "code",
      "metadata": {
        "colab": {
          "base_uri": "https://localhost:8080/"
        },
        "id": "cSTuOcxN70Ng",
        "outputId": "09df7e8b-5dbb-4024-f010-3c0d4f97c081"
      },
      "source": [
        "import sklearn\n",
        "print(sklearn.__version__)\n",
        "import numpy\n",
        "print(numpy.__version__)\n",
        "import scipy\n",
        "print(scipy.__version__)\n",
        "import matplotlib\n",
        "print(matplotlib.__version__)\n",
        "import pandas\n",
        "print(pandas.__version__)\n",
        "import torch\n",
        "print(torch.__version__)\n",
        "import seaborn\n",
        "print(seaborn.__version__)\n",
        "import wordcloud\n",
        "print(wordcloud.__version__)\n",
        "import bs4\n",
        "print(bs4.__version__)\n",
        "import requests\n",
        "print(requests.__version__)\n",
        "import theano\n",
        "print(theano.__version__)\n",
        "import networkx\n",
        "print(networkx.__version__)\n",
        "import cv2\n",
        "print(cv2.__version__)\n",
        "import gym\n",
        "print(gym.__version__)\n",
        "\n",
        "\n"
      ],
      "execution_count": null,
      "outputs": [
        {
          "output_type": "stream",
          "text": [
            "0.22.2.post1\n",
            "1.19.5\n",
            "1.4.1\n",
            "3.2.2\n",
            "1.1.5\n",
            "1.9.0+cu102\n",
            "0.11.1\n",
            "1.5.0\n",
            "4.6.3\n",
            "2.23.0\n",
            "1.1.2\n",
            "2.5.1\n",
            "4.1.2\n",
            "0.17.3\n"
          ],
          "name": "stdout"
        }
      ]
    }
  ]
}